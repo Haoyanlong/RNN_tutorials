{
 "cells": [
  {
   "cell_type": "code",
   "execution_count": 6,
   "metadata": {
    "collapsed": true
   },
   "outputs": [],
   "source": [
    "from __future__ import print_function\n",
    "from __future__ import absolute_import\n",
    "from __future__ import division\n",
    "\n",
    "import numpy as np\n",
    "import torch as t\n",
    "import torch.nn as nn\n",
    "from torch.autograd import Variable as V"
   ]
  },
  {
   "cell_type": "code",
   "execution_count": 7,
   "metadata": {
    "collapsed": true
   },
   "outputs": [],
   "source": [
    "# One hot encoding for each char in 'hello'\n",
    "h = [1, 0, 0, 0]\n",
    "e = [0, 1, 0, 0]\n",
    "l = [0, 0, 1, 0]\n",
    "o = [0, 0, 0, 1]\n",
    "\n",
    "# One cell RNN input_dim(4) -> output_dim(2). sequence: 5\n",
    "cell = nn.RNN(input_size=4, hidden_size=2, batch_first=True)\n",
    "# (num_layers * num_directions, batch, hidden_size)\n",
    "# (batch, num_layers * num_directions, hidden_size) for batch_first=True\n",
    "hidden = V(t.randn(1, 1, 2))"
   ]
  },
  {
   "cell_type": "code",
   "execution_count": 9,
   "metadata": {
    "collapsed": false
   },
   "outputs": [
    {
     "name": "stdout",
     "output_type": "stream",
     "text": [
      "inputs size:  torch.Size([5, 4])\n",
      "one input size:  torch.Size([1, 1, 4]) output size:  torch.Size([1, 1, 2])\n",
      "one input size:  torch.Size([1, 1, 4]) output size:  torch.Size([1, 1, 2])\n",
      "one input size:  torch.Size([1, 1, 4]) output size:  torch.Size([1, 1, 2])\n",
      "one input size:  torch.Size([1, 1, 4]) output size:  torch.Size([1, 1, 2])\n",
      "one input size:  torch.Size([1, 1, 4]) output size:  torch.Size([1, 1, 2])\n"
     ]
    }
   ],
   "source": [
    "# Propagate input through RNN\n",
    "# Input: (batch, seq_len, input_size) when batch_first=True\n",
    "inputs = V(t.Tensor([h, e, l, l, o]))\n",
    "print(\"inputs size: \", inputs.size())\n",
    "for one in inputs:\n",
    "    one = one.view(1, 1, -1)\n",
    "    # Input: (batch, seq_len, input_size) when batch_first=True\n",
    "    output, hidden = cell(one, hidden)\n",
    "    print(\"one input size: \", one.size(), \"output size: \", output.size())"
   ]
  },
  {
   "cell_type": "code",
   "execution_count": 11,
   "metadata": {
    "collapsed": false
   },
   "outputs": [
    {
     "name": "stdout",
     "output_type": "stream",
     "text": [
      "inputs size:  torch.Size([1, 5, 4])\n",
      "sequence input size:  torch.Size([1, 5, 4]) output size:  torch.Size([1, 5, 2])\n"
     ]
    }
   ],
   "source": [
    "# We can do the whole at once\n",
    "# Propagate input through RNN\n",
    "# Input: (batch, seq_len, input_size) when batch_first=True\n",
    "inputs = inputs.view(1, 5, -1)\n",
    "print(\"inputs size: \", inputs.size())\n",
    "output, hidden = cell(inputs, hidden)\n",
    "print(\"sequence input size: \", inputs.size(), \"output size: \", output.size())\n"
   ]
  },
  {
   "cell_type": "code",
   "execution_count": 12,
   "metadata": {
    "collapsed": false
   },
   "outputs": [
    {
     "name": "stdout",
     "output_type": "stream",
     "text": [
      "batch input size:  torch.Size([3, 5, 4]) output size:  torch.Size([3, 5, 2])\n",
      "batch inputs size:  torch.Size([5, 3, 4]) output size:  torch.Size([5, 3, 2])\n"
     ]
    }
   ],
   "source": [
    "# One cell RNN input_dim(4) --> output_dim(2). sequence: 5, batch 3\n",
    "# 3 batches 'hello', 'eolll', 'lleel'\n",
    "# rank = (3, 5, 4)\n",
    "# batch__size = 3, seq_length = 5, input_size = 4\n",
    "inputs = V(t.Tensor([[h, e, l, l, o],\n",
    "                     [e, o, l, l, l],\n",
    "                     [l, l, e, e, l]]))\n",
    "# Propagate input throuht RNN\n",
    "output, hidden = cell(inputs, hidden)\n",
    "print(\"batch input size: \", inputs.size(), \"output size: \", output.size())\n",
    "\n",
    "# One cell RNN input_dim(4) -> output_dim(2)\n",
    "cell = nn.RNN(input_size=4, hidden_size=2)\n",
    "\n",
    "# The given dimensions dim0 and dim1 are swapped\n",
    "inputs = inputs.transpose(0, 1)\n",
    "# Propagate input through RNN\n",
    "# Input: (seq_len, batch_size, input_size) when batch_first = False(default)\n",
    "# S * B * I\n",
    "output, hidden = cell(inputs, hidden)\n",
    "print(\"batch inputs size: \", inputs.size(), \"output size: \", output.size())"
   ]
  }
 ],
 "metadata": {
  "anaconda-cloud": {},
  "kernelspec": {
   "display_name": "Python [conda root]",
   "language": "python",
   "name": "conda-root-py"
  },
  "language_info": {
   "codemirror_mode": {
    "name": "ipython",
    "version": 2
   },
   "file_extension": ".py",
   "mimetype": "text/x-python",
   "name": "python",
   "nbconvert_exporter": "python",
   "pygments_lexer": "ipython2",
   "version": "2.7.12"
  }
 },
 "nbformat": 4,
 "nbformat_minor": 1
}
