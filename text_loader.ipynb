{
 "cells": [
  {
   "cell_type": "code",
   "execution_count": 3,
   "metadata": {
    "collapsed": true
   },
   "outputs": [],
   "source": [
    "from __future__ import print_function\n",
    "from __future__ import absolute_import\n",
    "from __future__ import division\n",
    "\n",
    "import gzip\n",
    "import numpy as np\n",
    "\n",
    "import torch as t\n",
    "import torch.nn as nn\n",
    "from torch.autograd import Variable as V\n",
    "import torch.utils.data as Data"
   ]
  },
  {
   "cell_type": "code",
   "execution_count": 7,
   "metadata": {
    "collapsed": true
   },
   "outputs": [],
   "source": [
    "class TextDataset(Data.Dataset):\n",
    "    # Initialize data, download, etc.\n",
    "    \n",
    "    def __init__(self, filename='./data/shakespeare.txt.gz'):\n",
    "        self.len = 0\n",
    "        with gzip.open(filename, 'rt') as f:\n",
    "            self.targetLines = [x.strip() for x in f if x.strip()]\n",
    "            self.srcLines = [x.lower().replace(' ', '') for x in self.targetLines]\n",
    "            self.len = len(self.srcLines)\n",
    "            \n",
    "    \n",
    "    def __getitem__(self, index):\n",
    "        return self.srcLines[index], self.targetLines[index]\n",
    "    \n",
    "    \n",
    "    def __len__(self):\n",
    "        return self.len\n",
    "   "
   ]
  },
  {
   "cell_type": "code",
   "execution_count": 8,
   "metadata": {
    "collapsed": false
   },
   "outputs": [
    {
     "name": "stdout",
     "output_type": "stream",
     "text": [
      "i:  0\n",
      "src:  ('herselfthegloryofacreditor,', \"abloodydeed,anddesperatelydispatch'd!\", 'juliet:')\n",
      "target:  ('Herself the glory of a creditor,', \"A bloody deed, and desperately dispatch'd!\", 'JULIET:')\n",
      "i:  1\n",
      "src:  ('curtis:', 'thegallant,youngandnoblegentleman,', 'arestuckuponthee:volumesofreport')\n",
      "target:  ('CURTIS:', 'The gallant, young and noble gentleman,', 'Are stuck upon thee: volumes of report')\n",
      "i:  2\n",
      "src:  ('thegods,notthepatricians,makeit,and', 'ifitbeso,thenbothdeparttohim;', \"ofthequeen'sspeed,isgone.\")\n",
      "target:  ('The gods, not the patricians, make it, and', 'If it be so, then both depart to him;', \"Of the queen's speed, is gone.\")\n",
      "i:  3\n",
      "src:  (\"thisdayshouldclarencecloselybemew'dup,\", \"apairoftribunesthathaverack'dforrome,\", 'atlast,thoughlong,ourjarringnotesagree:')\n",
      "target:  (\"This day should Clarence closely be mew'd up,\", \"A pair of tribunes that have rack'd for Rome,\", 'At last, though long, our jarring notes agree:')\n",
      "i:  4\n",
      "src:  ('ladygrey:', \"orelsethouartsuborn'dagainsthishonour\", 'whichanyprintofgoodnesswiltnottake,')\n",
      "target:  ('LADY GREY:', \"Or else thou art suborn'd against his honour\", 'Which any print of goodness wilt not take,')\n",
      "i:  5\n",
      "src:  ('ha!', \"thatrisethusnimblybyatrueking'sfall.\", 'away,away!forheiscominghither.')\n",
      "target:  ('Ha!', \"That rise thus nimbly by a true king's fall.\", 'Away, away! for he is coming hither.')\n",
      "i:  6\n",
      "src:  ('withlabourandthethingshetooktoquenchit,', 'andwhatofhim,tranio?', 'eretwicethesunhathmadehisjournalgreeting')\n",
      "target:  ('With labour and the thing she took to quench it,', 'And what of him, Tranio?', 'Ere twice the sun hath made his journal greeting')\n",
      "i:  7\n",
      "src:  (\"whoop'doutofrome.nowthisextremity\", 'hieyoutochurch;imustanotherway,', 'groom:')\n",
      "target:  (\"Whoop'd out of Rome. Now this extremity\", 'Hie you to church; I must another way,', 'Groom:')\n",
      "i:  8\n",
      "src:  (\"andjoythatthoubecomestkinghenry'sfriend.\", 'wedgesofgold,greatanchors,heapsofpearl,', 'yea,atallpoints;andlongstoenterin.')\n",
      "target:  (\"And joy that thou becomest King Henry's friend.\", 'Wedges of gold, great anchors, heaps of pearl,', 'Yea, at all points; and longs to enter in.')\n",
      "i:  9\n",
      "src:  ('iwouldiwereassureofagooddinner.', 'hermione:', 'afaironeareyou--wellyoufitourages')\n",
      "target:  ('I would I were as sure of a good dinner.', 'HERMIONE:', 'A fair one are you--well you fit our ages')\n",
      "i:  10\n",
      "src:  (\"andmakeuswadeeveninourkindred'sblood,\", \"thathedaresne'ercomebacktochallengeyou;\", 'cominius:')\n",
      "target:  (\"And make us wade even in our kindred's blood,\", \"That he dares ne'er come back to challenge you;\", 'COMINIUS:')\n"
     ]
    }
   ],
   "source": [
    "dataset = TextDataset()\n",
    "\n",
    "train_loader = Data.DataLoader(dataset=dataset,\n",
    "                               batch_size=3,\n",
    "                               shuffle=True,\n",
    "                               num_workers=2)\n",
    "\n",
    "for i, (src, target) in enumerate(train_loader):\n",
    "    print(\"i: \", i)\n",
    "    print(\"src: \", src)\n",
    "    print(\"target: \", target)\n",
    "    \n",
    "    if i == 10:\n",
    "        break"
   ]
  }
 ],
 "metadata": {
  "anaconda-cloud": {},
  "kernelspec": {
   "display_name": "Python [conda root]",
   "language": "python",
   "name": "conda-root-py"
  },
  "language_info": {
   "codemirror_mode": {
    "name": "ipython",
    "version": 2
   },
   "file_extension": ".py",
   "mimetype": "text/x-python",
   "name": "python",
   "nbconvert_exporter": "python",
   "pygments_lexer": "ipython2",
   "version": "2.7.12"
  }
 },
 "nbformat": 4,
 "nbformat_minor": 1
}
