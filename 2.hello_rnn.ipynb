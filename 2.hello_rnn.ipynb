{
 "cells": [
  {
   "cell_type": "code",
   "execution_count": 1,
   "metadata": {
    "collapsed": false
   },
   "outputs": [
    {
     "data": {
      "text/plain": [
       "<torch._C.Generator at 0x7f3f2c725e30>"
      ]
     },
     "execution_count": 1,
     "metadata": {},
     "output_type": "execute_result"
    }
   ],
   "source": [
    "from __future__ import print_function\n",
    "from __future__ import absolute_import\n",
    "from __future__ import division\n",
    "\n",
    "import sys\n",
    "import string\n",
    "import torch as t\n",
    "import torch.nn as nn\n",
    "from torch.autograd import Variable as V\n",
    "import torch.optim as optim\n",
    "\n",
    "t.manual_seed(777)   # reproducibility"
   ]
  },
  {
   "cell_type": "markdown",
   "metadata": {},
   "source": [
    "#### 1. input data"
   ]
  },
  {
   "cell_type": "code",
   "execution_count": 2,
   "metadata": {
    "collapsed": false
   },
   "outputs": [
    {
     "name": "stdout",
     "output_type": "stream",
     "text": [
      "inputs size:  torch.Size([6, 5])\n",
      "labels size:  torch.Size([6])\n"
     ]
    }
   ],
   "source": [
    "#            0,   1,   2,   3,   4\n",
    "idx2char = ['h', 'i', 'e', 'l', 'o']\n",
    "\n",
    "# Teach hihell -> ihello\n",
    "x_data = [0, 1, 0, 2, 3, 3]    # hihell\n",
    "one_hot_lookup = [[1, 0, 0, 0, 0],  # 0\n",
    "                  [0, 1, 0, 0, 0],  # 1\n",
    "                  [0, 0, 1, 0, 0],  # 2\n",
    "                  [0, 0, 0, 1, 0],  # 3\n",
    "                  [0, 0, 0, 0, 1]]  # 4\n",
    "y_data = [1, 0, 2, 3, 3, 4]    # ihello\n",
    "x_one_hot = [one_hot_lookup[x] for x in x_data]\n",
    "\n",
    "# As we have one batch of samples, we will change them to variables only once\n",
    "inputs = V(t.Tensor(x_one_hot))\n",
    "labels = V(t.LongTensor(y_data))\n",
    "\n",
    "print(\"inputs size: \", inputs.size())\n",
    "print(\"labels size: \", labels.size())\n"
   ]
  },
  {
   "cell_type": "markdown",
   "metadata": {},
   "source": [
    "#### 2. Define model"
   ]
  },
  {
   "cell_type": "code",
   "execution_count": 3,
   "metadata": {
    "collapsed": true
   },
   "outputs": [],
   "source": [
    "num_classes = 5\n",
    "input_size = 5   # one-hot size\n",
    "hidden_size = 5  # output from the RNN. 5 to directly predict one-hot\n",
    "batch_size = 1   # one sentence\n",
    "sequence_length = 1 # One by one\n",
    "num_layers = 1      # one-layer rnn"
   ]
  },
  {
   "cell_type": "code",
   "execution_count": 4,
   "metadata": {
    "collapsed": true
   },
   "outputs": [],
   "source": [
    "class Model(nn.Module):\n",
    "    \n",
    "    def __init__(self):\n",
    "        super(Model, self).__init__()\n",
    "        self.rnn = nn.RNN(input_size=input_size, \n",
    "                          hidden_size=hidden_size,\n",
    "                          num_layers=num_layers,\n",
    "                          batch_first=True)\n",
    "    \n",
    "    def forward(self, x, hidden):\n",
    "        \n",
    "        # Reshape input(batch first)\n",
    "        x = x.view(batch_size, sequence_length, input_size)\n",
    "        \n",
    "        # Propagate input through RNN\n",
    "        # Input: (batch, seq_len, input_size)\n",
    "        # hidden: (batch, num_layers * num_directions, hidden_size)\n",
    "        out, hidden = self.rnn(x, hidden)\n",
    "        return out.view(-1, num_classes), hidden\n",
    "    \n",
    "    def init_hidden(self):\n",
    "        # Initialize hidden and cell states\n",
    "        # (batch, num_layers * num_directions, hidden_size) for batch_first=True\n",
    "        return V(t.zeros(batch_size, num_layers, hidden_size)).cuda()"
   ]
  },
  {
   "cell_type": "markdown",
   "metadata": {},
   "source": [
    "#### 3. Train model"
   ]
  },
  {
   "cell_type": "code",
   "execution_count": 5,
   "metadata": {
    "collapsed": false
   },
   "outputs": [
    {
     "name": "stdout",
     "output_type": "stream",
     "text": [
      "Model(\n",
      "  (rnn): RNN(5, 5, batch_first=True)\n",
      ")\n",
      "predicted string: llllllEpoch: 1, Loss: 10.155\n",
      "predicted string: llllllEpoch: 2, Loss: 9.995\n",
      "predicted string: llllllEpoch: 3, Loss: 9.843\n",
      "predicted string: llllllEpoch: 4, Loss: 9.702\n",
      "predicted string: llllllEpoch: 5, Loss: 9.571\n",
      "predicted string: llllllEpoch: 6, Loss: 9.452\n",
      "predicted string: llllllEpoch: 7, Loss: 9.342\n",
      "predicted string: llllllEpoch: 8, Loss: 9.238\n",
      "predicted string: llllllEpoch: 9, Loss: 9.136\n",
      "predicted string: llllllEpoch: 10, Loss: 9.033\n",
      "predicted string: llllllEpoch: 11, Loss: 8.928\n",
      "predicted string: llllllEpoch: 12, Loss: 8.822\n",
      "predicted string: llllllEpoch: 13, Loss: 8.715\n",
      "predicted string: llllllEpoch: 14, Loss: 8.607\n",
      "predicted string: llllllEpoch: 15, Loss: 8.498\n",
      "predicted string: llllllEpoch: 16, Loss: 8.389\n",
      "predicted string: llllllEpoch: 17, Loss: 8.281\n",
      "predicted string: llllllEpoch: 18, Loss: 8.172\n",
      "predicted string: llllllEpoch: 19, Loss: 8.063\n",
      "predicted string: llllllEpoch: 20, Loss: 7.954\n",
      "predicted string: llllllEpoch: 21, Loss: 7.846\n",
      "predicted string: llllllEpoch: 22, Loss: 7.740\n",
      "predicted string: llllllEpoch: 23, Loss: 7.635\n",
      "predicted string: llllllEpoch: 24, Loss: 7.532\n",
      "predicted string: llllllEpoch: 25, Loss: 7.431\n",
      "predicted string: llllllEpoch: 26, Loss: 7.332\n",
      "predicted string: llllllEpoch: 27, Loss: 7.236\n",
      "predicted string: llllllEpoch: 28, Loss: 7.141\n",
      "predicted string: llllllEpoch: 29, Loss: 7.048\n",
      "predicted string: lhllllEpoch: 30, Loss: 6.957\n",
      "predicted string: lhllllEpoch: 31, Loss: 6.868\n",
      "predicted string: lhllllEpoch: 32, Loss: 6.780\n",
      "predicted string: lhelllEpoch: 33, Loss: 6.693\n",
      "predicted string: lhelllEpoch: 34, Loss: 6.606\n",
      "predicted string: lhelllEpoch: 35, Loss: 6.521\n",
      "predicted string: lhelllEpoch: 36, Loss: 6.437\n",
      "predicted string: lhelllEpoch: 37, Loss: 6.354\n",
      "predicted string: lhelllEpoch: 38, Loss: 6.273\n",
      "predicted string: lhelllEpoch: 39, Loss: 6.193\n",
      "predicted string: lhelllEpoch: 40, Loss: 6.115\n",
      "predicted string: lhelllEpoch: 41, Loss: 6.039\n",
      "predicted string: lhelllEpoch: 42, Loss: 5.964\n",
      "predicted string: lhelllEpoch: 43, Loss: 5.892\n",
      "predicted string: lhelllEpoch: 44, Loss: 5.821\n",
      "predicted string: ihelllEpoch: 45, Loss: 5.752\n",
      "predicted string: ihelllEpoch: 46, Loss: 5.685\n",
      "predicted string: ihelllEpoch: 47, Loss: 5.619\n",
      "predicted string: ihelllEpoch: 48, Loss: 5.555\n",
      "predicted string: ihelllEpoch: 49, Loss: 5.492\n",
      "predicted string: ihelllEpoch: 50, Loss: 5.432\n",
      "predicted string: ihelllEpoch: 51, Loss: 5.373\n",
      "predicted string: ihelllEpoch: 52, Loss: 5.316\n",
      "predicted string: ihelllEpoch: 53, Loss: 5.260\n",
      "predicted string: ihelllEpoch: 54, Loss: 5.205\n",
      "predicted string: ihelllEpoch: 55, Loss: 5.153\n",
      "predicted string: ihelllEpoch: 56, Loss: 5.101\n",
      "predicted string: ihelllEpoch: 57, Loss: 5.052\n",
      "predicted string: ihelllEpoch: 58, Loss: 5.004\n",
      "predicted string: ihelllEpoch: 59, Loss: 4.957\n",
      "predicted string: ihelllEpoch: 60, Loss: 4.912\n",
      "predicted string: ihelllEpoch: 61, Loss: 4.867\n",
      "predicted string: ihelllEpoch: 62, Loss: 4.824\n",
      "predicted string: ihelllEpoch: 63, Loss: 4.783\n",
      "predicted string: ihelllEpoch: 64, Loss: 4.742\n",
      "predicted string: ihelllEpoch: 65, Loss: 4.702\n",
      "predicted string: ihelllEpoch: 66, Loss: 4.664\n",
      "predicted string: ihelllEpoch: 67, Loss: 4.626\n",
      "predicted string: ihelllEpoch: 68, Loss: 4.588\n",
      "predicted string: ihelllEpoch: 69, Loss: 4.552\n",
      "predicted string: ihelllEpoch: 70, Loss: 4.516\n",
      "predicted string: ihelloEpoch: 71, Loss: 4.480\n",
      "predicted string: ihelloEpoch: 72, Loss: 4.445\n",
      "predicted string: ihelloEpoch: 73, Loss: 4.410\n",
      "predicted string: ihelloEpoch: 74, Loss: 4.375\n",
      "predicted string: ihelloEpoch: 75, Loss: 4.340\n",
      "predicted string: ihelloEpoch: 76, Loss: 4.305\n",
      "predicted string: ihelloEpoch: 77, Loss: 4.269\n",
      "predicted string: ihelloEpoch: 78, Loss: 4.233\n",
      "predicted string: ihelloEpoch: 79, Loss: 4.196\n",
      "predicted string: ihelloEpoch: 80, Loss: 4.158\n",
      "predicted string: ihelloEpoch: 81, Loss: 4.119\n",
      "predicted string: ihelloEpoch: 82, Loss: 4.080\n",
      "predicted string: ihelloEpoch: 83, Loss: 4.041\n",
      "predicted string: ihelloEpoch: 84, Loss: 4.002\n",
      "predicted string: ihelloEpoch: 85, Loss: 3.965\n",
      "predicted string: ihelloEpoch: 86, Loss: 3.931\n",
      "predicted string: ihelloEpoch: 87, Loss: 3.899\n",
      "predicted string: ihelloEpoch: 88, Loss: 3.871\n",
      "predicted string: ihelloEpoch: 89, Loss: 3.845\n",
      "predicted string: ihelloEpoch: 90, Loss: 3.821\n",
      "predicted string: ihelloEpoch: 91, Loss: 3.797\n",
      "predicted string: ihelloEpoch: 92, Loss: 3.773\n",
      "predicted string: ihelloEpoch: 93, Loss: 3.749\n",
      "predicted string: ihelloEpoch: 94, Loss: 3.723\n",
      "predicted string: ihelloEpoch: 95, Loss: 3.698\n",
      "predicted string: ihelloEpoch: 96, Loss: 3.673\n",
      "predicted string: ihelloEpoch: 97, Loss: 3.650\n",
      "predicted string: ihelloEpoch: 98, Loss: 3.628\n",
      "predicted string: ihelloEpoch: 99, Loss: 3.607\n",
      "predicted string: ihelloEpoch: 100, Loss: 3.587\n",
      "Learning finished!!!\n"
     ]
    }
   ],
   "source": [
    "# Instantiate RNN model\n",
    "model = Model()\n",
    "print(model)\n",
    "if t.cuda.is_available():\n",
    "    model.cuda()\n",
    "\n",
    "# Set loss and optimizer function\n",
    "# CrossEntropyLoss = LogSoftmax + NLLLoss\n",
    "criterion = nn.CrossEntropyLoss()\n",
    "optimizer = optim.Adam(model.parameters(), lr=0.01)\n",
    "\n",
    "# Train the model\n",
    "for epoch in range(100):\n",
    "    optimizer.zero_grad()\n",
    "    loss = 0\n",
    "    hidden = model.init_hidden()\n",
    "    \n",
    "    sys.stdout.write(\"predicted string: \")\n",
    "    \n",
    "    # Propagate one word for every step\n",
    "    for input, label in zip(inputs, labels):\n",
    "        if t.cuda.is_available():\n",
    "            input = input.cuda()\n",
    "            label = label.cuda()\n",
    "        output, hidden = model(input, hidden)\n",
    "        val, idx = output.max(1)\n",
    "        sys.stdout.write(idx2char[idx.data[0]])\n",
    "        loss += criterion(output, label)\n",
    "    print(\"Epoch: %d, Loss: %1.3f\" % (epoch + 1, loss.data[0]))\n",
    "    \n",
    "    loss.backward()\n",
    "    optimizer.step()\n",
    "    \n",
    "print(\"Learning finished!!!\")\n"
   ]
  }
 ],
 "metadata": {
  "anaconda-cloud": {},
  "kernelspec": {
   "display_name": "Python [conda root]",
   "language": "python",
   "name": "conda-root-py"
  },
  "language_info": {
   "codemirror_mode": {
    "name": "ipython",
    "version": 2
   },
   "file_extension": ".py",
   "mimetype": "text/x-python",
   "name": "python",
   "nbconvert_exporter": "python",
   "pygments_lexer": "ipython2",
   "version": "2.7.12"
  }
 },
 "nbformat": 4,
 "nbformat_minor": 1
}
