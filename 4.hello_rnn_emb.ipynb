{
 "cells": [
  {
   "cell_type": "code",
   "execution_count": 2,
   "metadata": {
    "collapsed": false
   },
   "outputs": [
    {
     "data": {
      "text/plain": [
       "<torch._C.Generator at 0x7fc7f83bae10>"
      ]
     },
     "execution_count": 2,
     "metadata": {},
     "output_type": "execute_result"
    }
   ],
   "source": [
    "from __future__ import print_function\n",
    "from __future__ import absolute_import\n",
    "from __future__ import division\n",
    "\n",
    "import torch as t\n",
    "from torch.autograd import Variable as V\n",
    "import torch.nn as nn\n",
    "import torch.optim as optim\n",
    "\n",
    "t.manual_seed(777)      # reproducibility"
   ]
  },
  {
   "cell_type": "markdown",
   "metadata": {},
   "source": [
    "#### 1. input data"
   ]
  },
  {
   "cell_type": "code",
   "execution_count": 7,
   "metadata": {
    "collapsed": false
   },
   "outputs": [
    {
     "name": "stdout",
     "output_type": "stream",
     "text": [
      "inputs size:  torch.Size([1, 6])\n",
      "inputs labels:  torch.Size([6])\n"
     ]
    }
   ],
   "source": [
    "idx2char = ['h', 'i', 'e', 'l', 'o']\n",
    "\n",
    "# Teach hihell -> ihello\n",
    "x_data = [[0, 1, 0, 2, 3, 3]]    # hihell\n",
    "y_data = [1, 0, 2, 3, 3, 4]      # ihello\n",
    "\n",
    "# As we have one batch of samples, we will change them to variables only once\n",
    "inputs = V(t.LongTensor(x_data))\n",
    "labels = V(t.LongTensor(y_data))\n",
    "\n",
    "if t.cuda.is_available():\n",
    "    inputs = inputs.cuda()\n",
    "    labels = labels.cuda()\n",
    "\n",
    "print(\"inputs size: \", inputs.size())\n",
    "print(\"inputs labels: \", labels.size())"
   ]
  },
  {
   "cell_type": "markdown",
   "metadata": {},
   "source": [
    "#### 2. define model"
   ]
  },
  {
   "cell_type": "code",
   "execution_count": 4,
   "metadata": {
    "collapsed": true
   },
   "outputs": [],
   "source": [
    "# parameters setting\n",
    "num_classes = 5\n",
    "input_size = 5\n",
    "embedding_size = 10 # embedding size\n",
    "hidden_size = 5     # output from the RNN(5) to directly predict one-hot\n",
    "batch_size = 1      # one sentence\n",
    "sequence_length = 6 # |ihello| = 6\n",
    "num_layers = 1      # one-layer rnn"
   ]
  },
  {
   "cell_type": "code",
   "execution_count": 8,
   "metadata": {
    "collapsed": true
   },
   "outputs": [],
   "source": [
    "# net model\n",
    "class Model(nn.Module):\n",
    "    \n",
    "    def __init__(self):\n",
    "        super(Model, self).__init__()\n",
    "        self.embedding = nn.Embedding(input_size, embedding_size)\n",
    "        self.rnn = nn.RNN(input_size=embedding_size,\n",
    "                          hidden_size=5,\n",
    "                          batch_first=True)\n",
    "        self.fc = nn.Linear(hidden_size, num_classes)\n",
    "        \n",
    "    def forward(self, x):\n",
    "        # Initialize hidden and cell states\n",
    "        # (batch, num_layers * num_direction, hidden_size) for batch_first=True\n",
    "        h_0 = V(t.zeros(x.size(0), num_layers, hidden_size))\n",
    "        if t.cuda.is_available():\n",
    "            h_0 = h_0.cuda()\n",
    "        \n",
    "        emb = self.embedding(x)\n",
    "        emb = emb.view(batch_size, sequence_length, -1)\n",
    "        \n",
    "        # Propagate embedding through RNN\n",
    "        # Input: (batch, seq_len, embedding_size)\n",
    "        # h_0: (batch, num_layers * num_directions, hidden_size)\n",
    "        out, _ = self.rnn(emb, h_0)\n",
    "        return self.fc(out.view(-1, num_classes))        "
   ]
  },
  {
   "cell_type": "markdown",
   "metadata": {},
   "source": [
    "#### 3. train model"
   ]
  },
  {
   "cell_type": "code",
   "execution_count": 11,
   "metadata": {
    "collapsed": false
   },
   "outputs": [
    {
     "name": "stdout",
     "output_type": "stream",
     "text": [
      "Model(\n",
      "  (embedding): Embedding(5, 10)\n",
      "  (rnn): RNN(10, 5, batch_first=True)\n",
      "  (fc): Linear(in_features=5, out_features=5)\n",
      ")\n",
      "Predicted string:  ihiihh\n",
      "Epoch: 1, Loss: 1.625\n",
      "Predicted string:  ehello\n",
      "Epoch: 2, Loss: 1.170\n",
      "Predicted string:  ehelll\n",
      "Epoch: 3, Loss: 0.937\n",
      "Predicted string:  ehello\n",
      "Epoch: 4, Loss: 0.751\n",
      "Predicted string:  ehello\n",
      "Epoch: 5, Loss: 0.608\n",
      "Predicted string:  ehello\n",
      "Epoch: 6, Loss: 0.503\n",
      "Predicted string:  ehello\n",
      "Epoch: 7, Loss: 0.393\n",
      "Predicted string:  ihello\n",
      "Epoch: 8, Loss: 0.306\n",
      "Predicted string:  ihello\n",
      "Epoch: 9, Loss: 0.238\n",
      "Predicted string:  ihello\n",
      "Epoch: 10, Loss: 0.184\n",
      "Learning finished!!!\n"
     ]
    }
   ],
   "source": [
    "# Instantiate RNN model\n",
    "model = Model()\n",
    "if t.cuda.is_available():\n",
    "    model.cuda()\n",
    "print(model)\n",
    "\n",
    "# Set loss and optimizer function\n",
    "criterion = nn.CrossEntropyLoss()\n",
    "optimizer = optim.Adam(model.parameters(), lr=0.1)\n",
    "\n",
    "# Train the model\n",
    "for epoch in range(10):\n",
    "    outputs = model(inputs)\n",
    "    optimizer.zero_grad()\n",
    "    loss = criterion(outputs, labels)\n",
    "    \n",
    "    loss.backward()\n",
    "    optimizer.step()\n",
    "   \n",
    "    _, idx = outputs.max(1)\n",
    "    \n",
    "    predicted = ''.join([idx2char[eachidx] for eachidx in idx.cpu().data.numpy()])\n",
    "    print(\"Predicted string: \", predicted)\n",
    "    \n",
    "    print(\"Epoch: %d, Loss: %1.3f\" % (epoch + 1, loss.data[0]))\n",
    "\n",
    "print(\"Learning finished!!!\")\n",
    "    "
   ]
  }
 ],
 "metadata": {
  "kernelspec": {
   "display_name": "Python [conda root]",
   "language": "python",
   "name": "conda-root-py"
  },
  "language_info": {
   "codemirror_mode": {
    "name": "ipython",
    "version": 2
   },
   "file_extension": ".py",
   "mimetype": "text/x-python",
   "name": "python",
   "nbconvert_exporter": "python",
   "pygments_lexer": "ipython2",
   "version": "2.7.12"
  }
 },
 "nbformat": 4,
 "nbformat_minor": 1
}
